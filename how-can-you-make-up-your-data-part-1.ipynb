{
 "cells": [
  {
   "cell_type": "markdown",
   "id": "e980f749",
   "metadata": {
    "_cell_guid": "b1076dfc-b9ad-4769-8c92-a6c4dae69d19",
    "_uuid": "8f2839f25d086af736a60e9eeb907d3b93b6e0e5",
    "execution": {
     "iopub.execute_input": "2022-10-29T09:49:42.416019Z",
     "iopub.status.busy": "2022-10-29T09:49:42.415543Z",
     "iopub.status.idle": "2022-10-29T09:49:42.441319Z",
     "shell.execute_reply": "2022-10-29T09:49:42.440508Z",
     "shell.execute_reply.started": "2022-10-29T09:49:42.415923Z"
    },
    "papermill": {
     "duration": 0.014092,
     "end_time": "2022-10-29T10:49:48.527369",
     "exception": false,
     "start_time": "2022-10-29T10:49:48.513277",
     "status": "completed"
    },
    "tags": []
   },
   "source": [
    "# How can you make up your data? (Part-1)"
   ]
  },
  {
   "cell_type": "markdown",
   "id": "a6fd793b",
   "metadata": {
    "papermill": {
     "duration": 0.014323,
     "end_time": "2022-10-29T10:49:48.554534",
     "exception": false,
     "start_time": "2022-10-29T10:49:48.540211",
     "status": "completed"
    },
    "tags": []
   },
   "source": [
    "Suppose that you are in a business meeting. Would you like to see something like this:"
   ]
  },
  {
   "cell_type": "markdown",
   "id": "f5a28284",
   "metadata": {
    "papermill": {
     "duration": 0.013184,
     "end_time": "2022-10-29T10:49:48.580656",
     "exception": false,
     "start_time": "2022-10-29T10:49:48.567472",
     "status": "completed"
    },
    "tags": []
   },
   "source": [
    "![](https://cdn-images-1.medium.com/max/1000/1*wgGS_4dYjwqQXBL9QP-bPw.png)"
   ]
  },
  {
   "cell_type": "markdown",
   "id": "588e0315",
   "metadata": {
    "papermill": {
     "duration": 0.012646,
     "end_time": "2022-10-29T10:49:48.606299",
     "exception": false,
     "start_time": "2022-10-29T10:49:48.593653",
     "status": "completed"
    },
    "tags": []
   },
   "source": [
    "Or something like this:"
   ]
  },
  {
   "cell_type": "markdown",
   "id": "d605e5fb",
   "metadata": {
    "papermill": {
     "duration": 0.012475,
     "end_time": "2022-10-29T10:49:48.631500",
     "exception": false,
     "start_time": "2022-10-29T10:49:48.619025",
     "status": "completed"
    },
    "tags": []
   },
   "source": [
    "![](https://cdn-images-1.medium.com/max/1000/1*IPlL1Cu1tle-mE7PgrUlrg.png)"
   ]
  },
  {
   "cell_type": "markdown",
   "id": "9d8c03d4",
   "metadata": {
    "papermill": {
     "duration": 0.012234,
     "end_time": "2022-10-29T10:49:48.656414",
     "exception": false,
     "start_time": "2022-10-29T10:49:48.644180",
     "status": "completed"
    },
    "tags": []
   },
   "source": [
    "Of course, everyone will choose the second one. As a consequence, We should learn how to make up our data."
   ]
  },
  {
   "cell_type": "markdown",
   "id": "7e673f9d",
   "metadata": {
    "papermill": {
     "duration": 0.012574,
     "end_time": "2022-10-29T10:49:48.681704",
     "exception": false,
     "start_time": "2022-10-29T10:49:48.669130",
     "status": "completed"
    },
    "tags": []
   },
   "source": [
    "![](https://cdn-images-1.medium.com/max/1000/0*NI7CSnpNDxFskPIb)\n",
    "- Photo by [Laura Chouette](https://unsplash.com/@laurachouette?utm_source=medium&utm_medium=referral) on [Unsplash](https://unsplash.com/?utm_source=medium&utm_medium=referral)"
   ]
  },
  {
   "cell_type": "markdown",
   "id": "e64c7f9e",
   "metadata": {
    "papermill": {
     "duration": 0.014896,
     "end_time": "2022-10-29T10:49:48.709370",
     "exception": false,
     "start_time": "2022-10-29T10:49:48.694474",
     "status": "completed"
    },
    "tags": []
   },
   "source": [
    "## **How we will make graphs in Python?**"
   ]
  },
  {
   "cell_type": "markdown",
   "id": "f57afecd",
   "metadata": {
    "papermill": {
     "duration": 0.01227,
     "end_time": "2022-10-29T10:49:48.734175",
     "exception": false,
     "start_time": "2022-10-29T10:49:48.721905",
     "status": "completed"
    },
    "tags": []
   },
   "source": [
    "> # *matplotlib*"
   ]
  },
  {
   "cell_type": "markdown",
   "id": "a49aeb09",
   "metadata": {
    "papermill": {
     "duration": 0.012943,
     "end_time": "2022-10-29T10:49:48.759570",
     "exception": false,
     "start_time": "2022-10-29T10:49:48.746627",
     "status": "completed"
    },
    "tags": []
   },
   "source": [
    "![](https://cdn-images-1.medium.com/max/1000/1*JbJuvbQ3xnX4q5Zcdhclqw.png)"
   ]
  },
  {
   "cell_type": "markdown",
   "id": "f862ca15",
   "metadata": {
    "papermill": {
     "duration": 0.012225,
     "end_time": "2022-10-29T10:49:48.784529",
     "exception": false,
     "start_time": "2022-10-29T10:49:48.772304",
     "status": "completed"
    },
    "tags": []
   },
   "source": [
    "matplotlib is a library that we use to make graphs."
   ]
  },
  {
   "cell_type": "markdown",
   "id": "a9ab57ef",
   "metadata": {
    "papermill": {
     "duration": 0.012309,
     "end_time": "2022-10-29T10:49:48.809893",
     "exception": false,
     "start_time": "2022-10-29T10:49:48.797584",
     "status": "completed"
    },
    "tags": []
   },
   "source": [
    "According to [a recent survey by Kaggle](https://www.kaggle.com/competitions/kaggle-survey-2022/data), many people use matplotlib and seaborn libraries due to data visualization. In this article, I will show you how to use the matplotlib library to make up our data. In the next article, I will show you how to use the seaborn library to make up your data."
   ]
  },
  {
   "cell_type": "markdown",
   "id": "8eee58f9",
   "metadata": {
    "papermill": {
     "duration": 0.012202,
     "end_time": "2022-10-29T10:49:48.834614",
     "exception": false,
     "start_time": "2022-10-29T10:49:48.822412",
     "status": "completed"
    },
    "tags": []
   },
   "source": [
    "![](https://cdn-images-1.medium.com/max/1000/1*A9Hl4O3PEWKS3zkzqq_jhw.png)"
   ]
  },
  {
   "cell_type": "markdown",
   "id": "83142d26",
   "metadata": {
    "papermill": {
     "duration": 0.012392,
     "end_time": "2022-10-29T10:49:48.859682",
     "exception": false,
     "start_time": "2022-10-29T10:49:48.847290",
     "status": "completed"
    },
    "tags": []
   },
   "source": [
    "Before we start you can find my notebook for this article in my GitHub or on my Kaggle."
   ]
  },
  {
   "cell_type": "markdown",
   "id": "f847379d",
   "metadata": {
    "papermill": {
     "duration": 0.012134,
     "end_time": "2022-10-29T10:49:48.884311",
     "exception": false,
     "start_time": "2022-10-29T10:49:48.872177",
     "status": "completed"
    },
    "tags": []
   },
   "source": [
    "### Let's start with importing matplotlib!"
   ]
  },
  {
   "cell_type": "code",
   "execution_count": 1,
   "id": "f246f7a6",
   "metadata": {
    "execution": {
     "iopub.execute_input": "2022-10-29T10:49:48.912113Z",
     "iopub.status.busy": "2022-10-29T10:49:48.911347Z",
     "iopub.status.idle": "2022-10-29T10:49:48.922332Z",
     "shell.execute_reply": "2022-10-29T10:49:48.921539Z"
    },
    "papermill": {
     "duration": 0.02758,
     "end_time": "2022-10-29T10:49:48.924751",
     "exception": false,
     "start_time": "2022-10-29T10:49:48.897171",
     "status": "completed"
    },
    "tags": []
   },
   "outputs": [],
   "source": [
    "import matplotlib.pyplot as plt\n",
    "%matplotlib inline"
   ]
  },
  {
   "cell_type": "markdown",
   "id": "4a0966f5",
   "metadata": {
    "papermill": {
     "duration": 0.012491,
     "end_time": "2022-10-29T10:49:48.950047",
     "exception": false,
     "start_time": "2022-10-29T10:49:48.937556",
     "status": "completed"
    },
    "tags": []
   },
   "source": [
    "### And of course NumPy ;"
   ]
  },
  {
   "cell_type": "code",
   "execution_count": 2,
   "id": "572dbd91",
   "metadata": {
    "execution": {
     "iopub.execute_input": "2022-10-29T10:49:48.977629Z",
     "iopub.status.busy": "2022-10-29T10:49:48.976956Z",
     "iopub.status.idle": "2022-10-29T10:49:48.981180Z",
     "shell.execute_reply": "2022-10-29T10:49:48.980345Z"
    },
    "papermill": {
     "duration": 0.020384,
     "end_time": "2022-10-29T10:49:48.983251",
     "exception": false,
     "start_time": "2022-10-29T10:49:48.962867",
     "status": "completed"
    },
    "tags": []
   },
   "outputs": [],
   "source": [
    "import numpy as np"
   ]
  },
  {
   "cell_type": "markdown",
   "id": "c121fb16",
   "metadata": {
    "papermill": {
     "duration": 0.012485,
     "end_time": "2022-10-29T10:49:49.008655",
     "exception": false,
     "start_time": "2022-10-29T10:49:48.996170",
     "status": "completed"
    },
    "tags": []
   },
   "source": [
    "### Let's create random numbers for use in graphs!"
   ]
  },
  {
   "cell_type": "code",
   "execution_count": 3,
   "id": "9643ddfc",
   "metadata": {
    "execution": {
     "iopub.execute_input": "2022-10-29T10:49:49.036453Z",
     "iopub.status.busy": "2022-10-29T10:49:49.035715Z",
     "iopub.status.idle": "2022-10-29T10:49:49.041285Z",
     "shell.execute_reply": "2022-10-29T10:49:49.040169Z"
    },
    "papermill": {
     "duration": 0.022458,
     "end_time": "2022-10-29T10:49:49.043968",
     "exception": false,
     "start_time": "2022-10-29T10:49:49.021510",
     "status": "completed"
    },
    "tags": []
   },
   "outputs": [],
   "source": [
    "x = np.arange(20)\n",
    "#Create 20 numbers from 0 to 19.\n",
    "y = np.random.normal(10, 1, 20)\n",
    "#create 20 numbers whose mean is 10, and whose standard deviation is 1.\n",
    "z = np.random.normal(10, 2, 20)\n",
    "#create 20 numbers whose mean is 10, and whose standard deviation is 2."
   ]
  },
  {
   "cell_type": "markdown",
   "id": "d8a5c5db",
   "metadata": {
    "papermill": {
     "duration": 0.012382,
     "end_time": "2022-10-29T10:49:49.069330",
     "exception": false,
     "start_time": "2022-10-29T10:49:49.056948",
     "status": "completed"
    },
    "tags": []
   },
   "source": [
    "> ## ***Line chart***"
   ]
  },
  {
   "cell_type": "markdown",
   "id": "448b6d2a",
   "metadata": {
    "papermill": {
     "duration": 0.012566,
     "end_time": "2022-10-29T10:49:49.094726",
     "exception": false,
     "start_time": "2022-10-29T10:49:49.082160",
     "status": "completed"
    },
    "tags": []
   },
   "source": [
    "The **line chart** is a type of graph which we use to see small or long differences in the same time period for more than one category"
   ]
  },
  {
   "cell_type": "markdown",
   "id": "4678780e",
   "metadata": {
    "papermill": {
     "duration": 0.013456,
     "end_time": "2022-10-29T10:49:49.120784",
     "exception": false,
     "start_time": "2022-10-29T10:49:49.107328",
     "status": "completed"
    },
    "tags": []
   },
   "source": [
    "### Let's make an example!"
   ]
  },
  {
   "cell_type": "code",
   "execution_count": 4,
   "id": "ff5f50f0",
   "metadata": {
    "execution": {
     "iopub.execute_input": "2022-10-29T10:49:49.148511Z",
     "iopub.status.busy": "2022-10-29T10:49:49.147537Z",
     "iopub.status.idle": "2022-10-29T10:49:49.462376Z",
     "shell.execute_reply": "2022-10-29T10:49:49.461235Z"
    },
    "papermill": {
     "duration": 0.331173,
     "end_time": "2022-10-29T10:49:49.464739",
     "exception": false,
     "start_time": "2022-10-29T10:49:49.133566",
     "status": "completed"
    },
    "tags": []
   },
   "outputs": [
    {
     "data": {
      "text/plain": [
       "Text(0, 0.5, 'y')"
      ]
     },
     "execution_count": 4,
     "metadata": {},
     "output_type": "execute_result"
    },
    {
     "data": {
      "image/png": "[encoded data removed]",
      "text/plain": [
       "<Figure size 432x288 with 1 Axes>"
      ]
     },
     "metadata": {
      "needs_background": "light"
     },
     "output_type": "display_data"
    }
   ],
   "source": [
    "fig = plt.figure()\n",
    "#It is necessary for making a figure, a chart, or a graph.\n",
    "ax=fig.add_subplot(111) \n",
    "# It says that there is 1 row (first number), there is 1 column, and from these the first graph is ... (It is normal that you didn't get the subplot() but you will understand in the next examples).\n",
    "ax.plot(x,y)\n",
    "#Create a line chart and then put the \"x\" values on the x-axis, and put the \"y\" values on the y-axis.\n",
    "ax.set_title(\"Line chart\")\n",
    "#Give the title to this table.\n",
    "ax.set_xlabel(\"x\")\n",
    "# Give the title to the x-axis.\n",
    "ax.set_ylabel(\"y\")\n",
    "#Give the title to the y-axis."
   ]
  },
  {
   "cell_type": "markdown",
   "id": "a28cc29d",
   "metadata": {
    "papermill": {
     "duration": 0.013021,
     "end_time": "2022-10-29T10:49:49.491425",
     "exception": false,
     "start_time": "2022-10-29T10:49:49.478404",
     "status": "completed"
    },
    "tags": []
   },
   "source": [
    "#### Or more than one category, according to \"x\" values!"
   ]
  },
  {
   "cell_type": "markdown",
   "id": "0a50739f",
   "metadata": {
    "papermill": {
     "duration": 0.013707,
     "end_time": "2022-10-29T10:49:49.518372",
     "exception": false,
     "start_time": "2022-10-29T10:49:49.504665",
     "status": "completed"
    },
    "tags": []
   },
   "source": [
    "### Let's make an example!"
   ]
  },
  {
   "cell_type": "code",
   "execution_count": 5,
   "id": "125a557d",
   "metadata": {
    "execution": {
     "iopub.execute_input": "2022-10-29T10:49:49.546905Z",
     "iopub.status.busy": "2022-10-29T10:49:49.546465Z",
     "iopub.status.idle": "2022-10-29T10:49:49.809352Z",
     "shell.execute_reply": "2022-10-29T10:49:49.808432Z"
    },
    "papermill": {
     "duration": 0.279841,
     "end_time": "2022-10-29T10:49:49.811628",
     "exception": false,
     "start_time": "2022-10-29T10:49:49.531787",
     "status": "completed"
    },
    "tags": []
   },
   "outputs": [
    {
     "data": {
      "text/plain": [
       "<matplotlib.legend.Legend at 0x7f14e0c3cf50>"
      ]
     },
     "execution_count": 5,
     "metadata": {},
     "output_type": "execute_result"
    },
    {
     "data": {
      "image/png": "[encoded data removed]",
      "text/plain": [
       "<Figure size 432x288 with 1 Axes>"
      ]
     },
     "metadata": {
      "needs_background": "light"
     },
     "output_type": "display_data"
    }
   ],
   "source": [
    "fig = plt.figure()\n",
    "#It is necessary for making a figure, a chart, or a graph.\n",
    "ax=fig.add_subplot(111)\n",
    "#It says that there is 1 row (first number), there is 1 column(second number), and from these the first graph(third number) is ...\n",
    "ax.plot(x,y,label=\"Thing # 1\")\n",
    "#Create a line chart and then put the \"x\" values to the x-axis, and put the \"y\" values to the y-axis.\n",
    "#And the label of this graph is \"Thing # 1\".\n",
    " \n",
    "ax.plot(x,z,label=\"Thing # 2\")\n",
    "#Create a line chart and then put the \"x\" values to the x-axis, and put the \"z\" values to the y-axis.\n",
    "#And the label of this graph is \"Thing # 2\".\n",
    "ax.legend()\n",
    "#Putting a legend on the graph."
   ]
  },
  {
   "cell_type": "markdown",
   "id": "d0875c75",
   "metadata": {
    "papermill": {
     "duration": 0.013593,
     "end_time": "2022-10-29T10:49:49.839361",
     "exception": false,
     "start_time": "2022-10-29T10:49:49.825768",
     "status": "completed"
    },
    "tags": []
   },
   "source": [
    "### Using markers!"
   ]
  },
  {
   "cell_type": "markdown",
   "id": "a1d98b6e",
   "metadata": {
    "papermill": {
     "duration": 0.014129,
     "end_time": "2022-10-29T10:49:49.867337",
     "exception": false,
     "start_time": "2022-10-29T10:49:49.853208",
     "status": "completed"
    },
    "tags": []
   },
   "source": [
    "Markers are icons which are showing values."
   ]
  },
  {
   "cell_type": "markdown",
   "id": "3c5f7418",
   "metadata": {
    "papermill": {
     "duration": 0.014251,
     "end_time": "2022-10-29T10:49:49.896259",
     "exception": false,
     "start_time": "2022-10-29T10:49:49.882008",
     "status": "completed"
    },
    "tags": []
   },
   "source": [
    "You can use these markers :\n",
    "- ``'.'`` point marker\n",
    "- ``','`` pixel marker\n",
    "- ``'o'`` circle marker\n",
    "- ``'v'`` triangle_down marker\n",
    "- ``'^'`` triangle_up marker\n",
    "- ``'<'`` triangle_left marker\n",
    "- ``'>'`` triangle_right marker\n",
    "- ``'1'`` tri_down marker\n",
    "- ``'2'`` tri_up marker\n",
    "- ``'3'`` tri_left marker\n",
    "- ``'4'`` tri_right marker\n",
    "- ``'8'`` octagon marker\n",
    "- ``'s'`` square marker\n",
    "- ``'p'`` pentagon marker\n",
    "- ``'P'`` plus (filled) marker\n",
    "- ``'*'`` star marker\n",
    "- ``'h'`` hexagon1 marker\n",
    "- ``'H'`` hexagon2 marker\n",
    "- ``'+'`` plus marker\n",
    "- ``'x'`` x marker\n",
    "- ``'X'`` x (filled) marker\n",
    "- ``'D'`` diamond marker\n",
    "- ``'d'`` thin_diamond marker\n",
    "- ``'|'`` vline marker\n",
    "- ``'_'`` hline marker"
   ]
  },
  {
   "cell_type": "markdown",
   "id": "c9644ee4",
   "metadata": {
    "papermill": {
     "duration": 0.013532,
     "end_time": "2022-10-29T10:49:49.923664",
     "exception": false,
     "start_time": "2022-10-29T10:49:49.910132",
     "status": "completed"
    },
    "tags": []
   },
   "source": [
    "### Using colors!"
   ]
  },
  {
   "cell_type": "markdown",
   "id": "647c27bf",
   "metadata": {
    "papermill": {
     "duration": 0.013882,
     "end_time": "2022-10-29T10:49:49.952048",
     "exception": false,
     "start_time": "2022-10-29T10:49:49.938166",
     "status": "completed"
    },
    "tags": []
   },
   "source": [
    "You can use these colors :\n",
    "- ``\"b\"`` blue\n",
    "- ``\"g\"`` green\n",
    "- ``\"r\"`` red\n",
    "- ``\"c\"`` cyan\n",
    "- ``\"m\"`` magenta\n",
    "- ``\"y\"`` yellow\n",
    "- ``\"k\"`` black\n",
    "- ``\"w\"`` white"
   ]
  },
  {
   "cell_type": "markdown",
   "id": "0a98071e",
   "metadata": {
    "papermill": {
     "duration": 0.013453,
     "end_time": "2022-10-29T10:49:49.979393",
     "exception": false,
     "start_time": "2022-10-29T10:49:49.965940",
     "status": "completed"
    },
    "tags": []
   },
   "source": [
    "### Saving the figure!"
   ]
  },
  {
   "cell_type": "markdown",
   "id": "7f0a0865",
   "metadata": {
    "papermill": {
     "duration": 0.017684,
     "end_time": "2022-10-29T10:49:50.011665",
     "exception": false,
     "start_time": "2022-10-29T10:49:49.993981",
     "status": "completed"
    },
    "tags": []
   },
   "source": [
    "We will use **.savefig(\"filename.png\", dpi=integer)**"
   ]
  },
  {
   "cell_type": "markdown",
   "id": "4f5a1c2e",
   "metadata": {
    "papermill": {
     "duration": 0.021729,
     "end_time": "2022-10-29T10:49:50.050879",
     "exception": false,
     "start_time": "2022-10-29T10:49:50.029150",
     "status": "completed"
    },
    "tags": []
   },
   "source": [
    "### Let's make an example!"
   ]
  },
  {
   "cell_type": "code",
   "execution_count": 6,
   "id": "6fa47de2",
   "metadata": {
    "execution": {
     "iopub.execute_input": "2022-10-29T10:49:50.094301Z",
     "iopub.status.busy": "2022-10-29T10:49:50.093200Z",
     "iopub.status.idle": "2022-10-29T10:49:50.641324Z",
     "shell.execute_reply": "2022-10-29T10:49:50.640139Z"
    },
    "papermill": {
     "duration": 0.571632,
     "end_time": "2022-10-29T10:49:50.643909",
     "exception": false,
     "start_time": "2022-10-29T10:49:50.072277",
     "status": "completed"
    },
    "tags": []
   },
   "outputs": [
    {
     "data": {
      "image/png": "[encoded data removed]",
      "text/plain": [
       "<Figure size 432x288 with 1 Axes>"
      ]
     },
     "metadata": {
      "needs_background": "light"
     },
     "output_type": "display_data"
    }
   ],
   "source": [
    "fig = plt.figure()\n",
    "#It is necessary for making a figure, a chart, or a graph.\n",
    "ax=fig.add_subplot(111) \n",
    "#It says that there is 1 row (first number), there is 1 column(second number), and from these the first graph(third number) is ...\n",
    "ax.plot(x,y,marker=\".\",c=\"b\")\n",
    "#Create a line chart and then put the \"x\" values to the x-axis, and put the \"y\" values to the y-axis.\n",
    "#marker is the icon for values.\n",
    "#c = color and \"b\" is blue.\n",
    "ax.set_title(\"Line chart\")\n",
    "# Setting title to the graph.\n",
    "ax.set_xlabel(\"x\",fontsize=30)\n",
    "# label to the x-axis.\n",
    "# fontsize= size of the label.\n",
    "ax.set_ylabel(\"y\",fontsize=20)\n",
    "# label to the y-axis.\n",
    "# fontsize= size of the label.\n",
    "fig.savefig(\"ilkgrafim.png\",dpi=300)\n",
    "#Saving figure.\n",
    "#dpi is for setting picture resolution."
   ]
  },
  {
   "cell_type": "markdown",
   "id": "5d777000",
   "metadata": {
    "papermill": {
     "duration": 0.014607,
     "end_time": "2022-10-29T10:49:50.673891",
     "exception": false,
     "start_time": "2022-10-29T10:49:50.659284",
     "status": "completed"
    },
    "tags": []
   },
   "source": [
    "> ## ***Scatter plot***"
   ]
  },
  {
   "cell_type": "markdown",
   "id": "e3a52b33",
   "metadata": {
    "papermill": {
     "duration": 0.015931,
     "end_time": "2022-10-29T10:49:50.705458",
     "exception": false,
     "start_time": "2022-10-29T10:49:50.689527",
     "status": "completed"
    },
    "tags": []
   },
   "source": [
    "To determine whether one variable depends on another, or to determine the correlation between two variables, we utilize a particular sort of graph called a **scatter plot**."
   ]
  },
  {
   "cell_type": "markdown",
   "id": "bde180d3",
   "metadata": {
    "papermill": {
     "duration": 0.014829,
     "end_time": "2022-10-29T10:49:50.735352",
     "exception": false,
     "start_time": "2022-10-29T10:49:50.720523",
     "status": "completed"
    },
    "tags": []
   },
   "source": [
    "> ## ***Histogram***"
   ]
  },
  {
   "cell_type": "markdown",
   "id": "8881d839",
   "metadata": {
    "papermill": {
     "duration": 0.015056,
     "end_time": "2022-10-29T10:49:50.765543",
     "exception": false,
     "start_time": "2022-10-29T10:49:50.750487",
     "status": "completed"
    },
    "tags": []
   },
   "source": [
    "We use a particular sort of graph called a **histogram** to show how a variable is distributed."
   ]
  },
  {
   "cell_type": "markdown",
   "id": "fb6a6d98",
   "metadata": {
    "papermill": {
     "duration": 0.014196,
     "end_time": "2022-10-29T10:49:50.794591",
     "exception": false,
     "start_time": "2022-10-29T10:49:50.780395",
     "status": "completed"
    },
    "tags": []
   },
   "source": [
    "> ## ***Box plot***"
   ]
  },
  {
   "cell_type": "markdown",
   "id": "36b76987",
   "metadata": {
    "papermill": {
     "duration": 0.014125,
     "end_time": "2022-10-29T10:49:50.823090",
     "exception": false,
     "start_time": "2022-10-29T10:49:50.808965",
     "status": "completed"
    },
    "tags": []
   },
   "source": [
    "The **box plot** is a type of graph that we generally use to find outliers."
   ]
  },
  {
   "cell_type": "markdown",
   "id": "ff0299bf",
   "metadata": {
    "papermill": {
     "duration": 0.013943,
     "end_time": "2022-10-29T10:49:50.851375",
     "exception": false,
     "start_time": "2022-10-29T10:49:50.837432",
     "status": "completed"
    },
    "tags": []
   },
   "source": [
    "### Let's make an example!"
   ]
  },
  {
   "cell_type": "code",
   "execution_count": 7,
   "id": "7c05b6b7",
   "metadata": {
    "execution": {
     "iopub.execute_input": "2022-10-29T10:49:50.882415Z",
     "iopub.status.busy": "2022-10-29T10:49:50.881985Z",
     "iopub.status.idle": "2022-10-29T10:49:51.554229Z",
     "shell.execute_reply": "2022-10-29T10:49:51.553029Z"
    },
    "papermill": {
     "duration": 0.691727,
     "end_time": "2022-10-29T10:49:51.557485",
     "exception": false,
     "start_time": "2022-10-29T10:49:50.865758",
     "status": "completed"
    },
    "tags": []
   },
   "outputs": [
    {
     "data": {
      "text/plain": [
       "Text(0.5, 0.98, 'Visualization')"
      ]
     },
     "execution_count": 7,
     "metadata": {},
     "output_type": "execute_result"
    },
    {
     "data": {
      "image/png": "[encoded data removed]",
      "text/plain": [
       "<Figure size 1080x360 with 3 Axes>"
      ]
     },
     "metadata": {
      "needs_background": "light"
     },
     "output_type": "display_data"
    }
   ],
   "source": [
    "fig2 = plt.figure(figsize = (15,5))\n",
    "#It is necessary for making a figure, a chart, or a graph.\n",
    "#figsize gives the size of the figure.\n",
    "a = fig2.add_subplot(131)\n",
    "#It says that there is 1 row (first number), there is 3 column(second number), and from these the first graph(third number) is ...\n",
    "a.scatter(x,y)\n",
    "#Create a scatter plot and then put the \"x\" values to the x-axis, and put the \"y\" values to the y-axis.\n",
    "a.set_title('Scatter plot')\n",
    "#Setting title to the graph.\n",
    "a.set_xlabel(\"x\")\n",
    "#Give the title to the x-axis.\n",
    "b = fig2.add_subplot(132)\n",
    "#It says that there is 1 row (first number), there is 3 column(second number), and from these the second graph(third number) is ...\n",
    "b.hist(y)\n",
    "#Create a histogram and put \"y\" values on the x-axis.\n",
    "b.set_title('Histogram')\n",
    "#Setting title to the graph.\n",
    "c = fig2.add_subplot(133)\n",
    "#It says that there is 1 row (first number), there is 3 column(second number), and from these the third graph(third number) is ...\n",
    "c.boxplot([y,z])\n",
    "#Create a line chart and then put the \"y\" values to the x-axis, and put the \"z\" values to the y-axis.\n",
    "c.set_title('Box plot')\n",
    "#Setting title to the graph.\n",
    "fig2.suptitle('Visualization')\n",
    "#suptitle = super title so that you put a title to all figures."
   ]
  },
  {
   "cell_type": "markdown",
   "id": "bcc1810b",
   "metadata": {
    "papermill": {
     "duration": 0.015021,
     "end_time": "2022-10-29T10:49:51.587540",
     "exception": false,
     "start_time": "2022-10-29T10:49:51.572519",
     "status": "completed"
    },
    "tags": []
   },
   "source": [
    "## **Let's make examples from Titanic data!**"
   ]
  },
  {
   "cell_type": "markdown",
   "id": "b8c042bf",
   "metadata": {
    "papermill": {
     "duration": 0.014413,
     "end_time": "2022-10-29T10:49:51.616758",
     "exception": false,
     "start_time": "2022-10-29T10:49:51.602345",
     "status": "completed"
    },
    "tags": []
   },
   "source": [
    "### Importing pandas"
   ]
  },
  {
   "cell_type": "code",
   "execution_count": 8,
   "id": "0773cf3e",
   "metadata": {
    "execution": {
     "iopub.execute_input": "2022-10-29T10:49:51.648243Z",
     "iopub.status.busy": "2022-10-29T10:49:51.647820Z",
     "iopub.status.idle": "2022-10-29T10:49:51.653050Z",
     "shell.execute_reply": "2022-10-29T10:49:51.651715Z"
    },
    "papermill": {
     "duration": 0.024066,
     "end_time": "2022-10-29T10:49:51.655634",
     "exception": false,
     "start_time": "2022-10-29T10:49:51.631568",
     "status": "completed"
    },
    "tags": []
   },
   "outputs": [],
   "source": [
    "import pandas as pd"
   ]
  },
  {
   "cell_type": "markdown",
   "id": "03d3e592",
   "metadata": {
    "papermill": {
     "duration": 0.014658,
     "end_time": "2022-10-29T10:49:51.685213",
     "exception": false,
     "start_time": "2022-10-29T10:49:51.670555",
     "status": "completed"
    },
    "tags": []
   },
   "source": [
    "### Data reading"
   ]
  },
  {
   "cell_type": "markdown",
   "id": "a05a68fd",
   "metadata": {
    "papermill": {
     "duration": 0.015151,
     "end_time": "2022-10-29T10:49:51.715373",
     "exception": false,
     "start_time": "2022-10-29T10:49:51.700222",
     "status": "completed"
    },
    "tags": []
   },
   "source": [
    "If you don't know how to read data you should read [this article](https://medium.com/@ahmettalhabektas/first-step-in-data-world-d2eef7c53e53)."
   ]
  },
  {
   "cell_type": "code",
   "execution_count": 9,
   "id": "161a684b",
   "metadata": {
    "execution": {
     "iopub.execute_input": "2022-10-29T10:49:51.746974Z",
     "iopub.status.busy": "2022-10-29T10:49:51.746539Z",
     "iopub.status.idle": "2022-10-29T10:49:51.770505Z",
     "shell.execute_reply": "2022-10-29T10:49:51.769299Z"
    },
    "papermill": {
     "duration": 0.043237,
     "end_time": "2022-10-29T10:49:51.773580",
     "exception": false,
     "start_time": "2022-10-29T10:49:51.730343",
     "status": "completed"
    },
    "tags": []
   },
   "outputs": [],
   "source": [
    "df=pd.read_csv('../input/titanic/train.csv')"
   ]
  },
  {
   "cell_type": "markdown",
   "id": "b29a3c25",
   "metadata": {
    "papermill": {
     "duration": 0.014673,
     "end_time": "2022-10-29T10:49:51.803083",
     "exception": false,
     "start_time": "2022-10-29T10:49:51.788410",
     "status": "completed"
    },
    "tags": []
   },
   "source": [
    "### EDA"
   ]
  },
  {
   "cell_type": "markdown",
   "id": "7f2c203f",
   "metadata": {
    "papermill": {
     "duration": 0.01441,
     "end_time": "2022-10-29T10:49:51.832378",
     "exception": false,
     "start_time": "2022-10-29T10:49:51.817968",
     "status": "completed"
    },
    "tags": []
   },
   "source": [
    "If you don't know **EDA** I highly recommend you read [this article](https://medium.com/mlearning-ai/our-new-friend-is-eda-ad8acb779432) and for **filtering data**, you should read [this article](https://medium.com/@ahmettalhabektas/may-i-take-a-filtering-data-cdea0d49a99d)."
   ]
  },
  {
   "cell_type": "markdown",
   "id": "715a82bb",
   "metadata": {
    "papermill": {
     "duration": 0.014435,
     "end_time": "2022-10-29T10:49:51.861667",
     "exception": false,
     "start_time": "2022-10-29T10:49:51.847232",
     "status": "completed"
    },
    "tags": []
   },
   "source": [
    "#### Let's start!"
   ]
  },
  {
   "cell_type": "code",
   "execution_count": 10,
   "id": "40c66670",
   "metadata": {
    "execution": {
     "iopub.execute_input": "2022-10-29T10:49:51.893375Z",
     "iopub.status.busy": "2022-10-29T10:49:51.892952Z",
     "iopub.status.idle": "2022-10-29T10:49:51.916522Z",
     "shell.execute_reply": "2022-10-29T10:49:51.915243Z"
    },
    "papermill": {
     "duration": 0.042772,
     "end_time": "2022-10-29T10:49:51.919131",
     "exception": false,
     "start_time": "2022-10-29T10:49:51.876359",
     "status": "completed"
    },
    "tags": []
   },
   "outputs": [
    {
     "data": {
      "text/html": [
       "<div>\n",
       "<style scoped>\n",
       "    .dataframe tbody tr th:only-of-type {\n",
       "        vertical-align: middle;\n",
       "    }\n",
       "\n",
       "    .dataframe tbody tr th {\n",
       "        vertical-align: top;\n",
       "    }\n",
       "\n",
       "    .dataframe thead th {\n",
       "        text-align: right;\n",
       "    }\n",
       "</style>\n",
       "<table border=\"1\" class=\"dataframe\">\n",
       "  <thead>\n",
       "    <tr style=\"text-align: right;\">\n",
       "      <th></th>\n",
       "      <th>PassengerId</th>\n",
       "      <th>Survived</th>\n",
       "      <th>Pclass</th>\n",
       "      <th>Name</th>\n",
       "      <th>Sex</th>\n",
       "      <th>Age</th>\n",
       "      <th>SibSp</th>\n",
       "      <th>Parch</th>\n",
       "      <th>Ticket</th>\n",
       "      <th>Fare</th>\n",
       "      <th>Cabin</th>\n",
       "      <th>Embarked</th>\n",
       "    </tr>\n",
       "  </thead>\n",
       "  <tbody>\n",
       "    <tr>\n",
       "      <th>0</th>\n",
       "      <td>1</td>\n",
       "      <td>0</td>\n",
       "      <td>3</td>\n",
       "      <td>Braund, Mr. Owen Harris</td>\n",
       "      <td>male</td>\n",
       "      <td>22.0</td>\n",
       "      <td>1</td>\n",
       "      <td>0</td>\n",
       "      <td>A/5 21171</td>\n",
       "      <td>7.2500</td>\n",
       "      <td>NaN</td>\n",
       "      <td>S</td>\n",
       "    </tr>\n",
       "    <tr>\n",
       "      <th>1</th>\n",
       "      <td>2</td>\n",
       "      <td>1</td>\n",
       "      <td>1</td>\n",
       "      <td>Cumings, Mrs. John Bradley (Florence Briggs Th...</td>\n",
       "      <td>female</td>\n",
       "      <td>38.0</td>\n",
       "      <td>1</td>\n",
       "      <td>0</td>\n",
       "      <td>PC 17599</td>\n",
       "      <td>71.2833</td>\n",
       "      <td>C85</td>\n",
       "      <td>C</td>\n",
       "    </tr>\n",
       "    <tr>\n",
       "      <th>2</th>\n",
       "      <td>3</td>\n",
       "      <td>1</td>\n",
       "      <td>3</td>\n",
       "      <td>Heikkinen, Miss. Laina</td>\n",
       "      <td>female</td>\n",
       "      <td>26.0</td>\n",
       "      <td>0</td>\n",
       "      <td>0</td>\n",
       "      <td>STON/O2. 3101282</td>\n",
       "      <td>7.9250</td>\n",
       "      <td>NaN</td>\n",
       "      <td>S</td>\n",
       "    </tr>\n",
       "    <tr>\n",
       "      <th>3</th>\n",
       "      <td>4</td>\n",
       "      <td>1</td>\n",
       "      <td>1</td>\n",
       "      <td>Futrelle, Mrs. Jacques Heath (Lily May Peel)</td>\n",
       "      <td>female</td>\n",
       "      <td>35.0</td>\n",
       "      <td>1</td>\n",
       "      <td>0</td>\n",
       "      <td>113803</td>\n",
       "      <td>53.1000</td>\n",
       "      <td>C123</td>\n",
       "      <td>S</td>\n",
       "    </tr>\n",
       "    <tr>\n",
       "      <th>4</th>\n",
       "      <td>5</td>\n",
       "      <td>0</td>\n",
       "      <td>3</td>\n",
       "      <td>Allen, Mr. William Henry</td>\n",
       "      <td>male</td>\n",
       "      <td>35.0</td>\n",
       "      <td>0</td>\n",
       "      <td>0</td>\n",
       "      <td>373450</td>\n",
       "      <td>8.0500</td>\n",
       "      <td>NaN</td>\n",
       "      <td>S</td>\n",
       "    </tr>\n",
       "  </tbody>\n",
       "</table>\n",
       "</div>"
      ],
      "text/plain": [
       "   PassengerId  Survived  Pclass  \\\n",
       "0            1         0       3   \n",
       "1            2         1       1   \n",
       "2            3         1       3   \n",
       "3            4         1       1   \n",
       "4            5         0       3   \n",
       "\n",
       "                                                Name     Sex   Age  SibSp  \\\n",
       "0                            Braund, Mr. Owen Harris    male  22.0      1   \n",
       "1  Cumings, Mrs. John Bradley (Florence Briggs Th...  female  38.0      1   \n",
       "2                             Heikkinen, Miss. Laina  female  26.0      0   \n",
       "3       Futrelle, Mrs. Jacques Heath (Lily May Peel)  female  35.0      1   \n",
       "4                           Allen, Mr. William Henry    male  35.0      0   \n",
       "\n",
       "   Parch            Ticket     Fare Cabin Embarked  \n",
       "0      0         A/5 21171   7.2500   NaN        S  \n",
       "1      0          PC 17599  71.2833   C85        C  \n",
       "2      0  STON/O2. 3101282   7.9250   NaN        S  \n",
       "3      0            113803  53.1000  C123        S  \n",
       "4      0            373450   8.0500   NaN        S  "
      ]
     },
     "execution_count": 10,
     "metadata": {},
     "output_type": "execute_result"
    }
   ],
   "source": [
    "df.head()"
   ]
  },
  {
   "cell_type": "code",
   "execution_count": 11,
   "id": "b2fd06d6",
   "metadata": {
    "execution": {
     "iopub.execute_input": "2022-10-29T10:49:51.951429Z",
     "iopub.status.busy": "2022-10-29T10:49:51.951017Z",
     "iopub.status.idle": "2022-10-29T10:49:51.968231Z",
     "shell.execute_reply": "2022-10-29T10:49:51.966871Z"
    },
    "papermill": {
     "duration": 0.036502,
     "end_time": "2022-10-29T10:49:51.970993",
     "exception": false,
     "start_time": "2022-10-29T10:49:51.934491",
     "status": "completed"
    },
    "tags": []
   },
   "outputs": [
    {
     "data": {
      "text/html": [
       "<div>\n",
       "<style scoped>\n",
       "    .dataframe tbody tr th:only-of-type {\n",
       "        vertical-align: middle;\n",
       "    }\n",
       "\n",
       "    .dataframe tbody tr th {\n",
       "        vertical-align: top;\n",
       "    }\n",
       "\n",
       "    .dataframe thead th {\n",
       "        text-align: right;\n",
       "    }\n",
       "</style>\n",
       "<table border=\"1\" class=\"dataframe\">\n",
       "  <thead>\n",
       "    <tr style=\"text-align: right;\">\n",
       "      <th></th>\n",
       "      <th>PassengerId</th>\n",
       "      <th>Survived</th>\n",
       "      <th>Pclass</th>\n",
       "      <th>Name</th>\n",
       "      <th>Sex</th>\n",
       "      <th>Age</th>\n",
       "      <th>SibSp</th>\n",
       "      <th>Parch</th>\n",
       "      <th>Ticket</th>\n",
       "      <th>Fare</th>\n",
       "      <th>Cabin</th>\n",
       "      <th>Embarked</th>\n",
       "    </tr>\n",
       "  </thead>\n",
       "  <tbody>\n",
       "    <tr>\n",
       "      <th>886</th>\n",
       "      <td>887</td>\n",
       "      <td>0</td>\n",
       "      <td>2</td>\n",
       "      <td>Montvila, Rev. Juozas</td>\n",
       "      <td>male</td>\n",
       "      <td>27.0</td>\n",
       "      <td>0</td>\n",
       "      <td>0</td>\n",
       "      <td>211536</td>\n",
       "      <td>13.00</td>\n",
       "      <td>NaN</td>\n",
       "      <td>S</td>\n",
       "    </tr>\n",
       "    <tr>\n",
       "      <th>887</th>\n",
       "      <td>888</td>\n",
       "      <td>1</td>\n",
       "      <td>1</td>\n",
       "      <td>Graham, Miss. Margaret Edith</td>\n",
       "      <td>female</td>\n",
       "      <td>19.0</td>\n",
       "      <td>0</td>\n",
       "      <td>0</td>\n",
       "      <td>112053</td>\n",
       "      <td>30.00</td>\n",
       "      <td>B42</td>\n",
       "      <td>S</td>\n",
       "    </tr>\n",
       "    <tr>\n",
       "      <th>888</th>\n",
       "      <td>889</td>\n",
       "      <td>0</td>\n",
       "      <td>3</td>\n",
       "      <td>Johnston, Miss. Catherine Helen \"Carrie\"</td>\n",
       "      <td>female</td>\n",
       "      <td>NaN</td>\n",
       "      <td>1</td>\n",
       "      <td>2</td>\n",
       "      <td>W./C. 6607</td>\n",
       "      <td>23.45</td>\n",
       "      <td>NaN</td>\n",
       "      <td>S</td>\n",
       "    </tr>\n",
       "    <tr>\n",
       "      <th>889</th>\n",
       "      <td>890</td>\n",
       "      <td>1</td>\n",
       "      <td>1</td>\n",
       "      <td>Behr, Mr. Karl Howell</td>\n",
       "      <td>male</td>\n",
       "      <td>26.0</td>\n",
       "      <td>0</td>\n",
       "      <td>0</td>\n",
       "      <td>111369</td>\n",
       "      <td>30.00</td>\n",
       "      <td>C148</td>\n",
       "      <td>C</td>\n",
       "    </tr>\n",
       "    <tr>\n",
       "      <th>890</th>\n",
       "      <td>891</td>\n",
       "      <td>0</td>\n",
       "      <td>3</td>\n",
       "      <td>Dooley, Mr. Patrick</td>\n",
       "      <td>male</td>\n",
       "      <td>32.0</td>\n",
       "      <td>0</td>\n",
       "      <td>0</td>\n",
       "      <td>370376</td>\n",
       "      <td>7.75</td>\n",
       "      <td>NaN</td>\n",
       "      <td>Q</td>\n",
       "    </tr>\n",
       "  </tbody>\n",
       "</table>\n",
       "</div>"
      ],
      "text/plain": [
       "     PassengerId  Survived  Pclass                                      Name  \\\n",
       "886          887         0       2                     Montvila, Rev. Juozas   \n",
       "887          888         1       1              Graham, Miss. Margaret Edith   \n",
       "888          889         0       3  Johnston, Miss. Catherine Helen \"Carrie\"   \n",
       "889          890         1       1                     Behr, Mr. Karl Howell   \n",
       "890          891         0       3                       Dooley, Mr. Patrick   \n",
       "\n",
       "        Sex   Age  SibSp  Parch      Ticket   Fare Cabin Embarked  \n",
       "886    male  27.0      0      0      211536  13.00   NaN        S  \n",
       "887  female  19.0      0      0      112053  30.00   B42        S  \n",
       "888  female   NaN      1      2  W./C. 6607  23.45   NaN        S  \n",
       "889    male  26.0      0      0      111369  30.00  C148        C  \n",
       "890    male  32.0      0      0      370376   7.75   NaN        Q  "
      ]
     },
     "execution_count": 11,
     "metadata": {},
     "output_type": "execute_result"
    }
   ],
   "source": [
    "df.tail()"
   ]
  },
  {
   "cell_type": "code",
   "execution_count": 12,
   "id": "c7b12702",
   "metadata": {
    "execution": {
     "iopub.execute_input": "2022-10-29T10:49:52.004684Z",
     "iopub.status.busy": "2022-10-29T10:49:52.003674Z",
     "iopub.status.idle": "2022-10-29T10:49:52.031669Z",
     "shell.execute_reply": "2022-10-29T10:49:52.030326Z"
    },
    "papermill": {
     "duration": 0.048015,
     "end_time": "2022-10-29T10:49:52.034666",
     "exception": false,
     "start_time": "2022-10-29T10:49:51.986651",
     "status": "completed"
    },
    "tags": []
   },
   "outputs": [
    {
     "name": "stdout",
     "output_type": "stream",
     "text": [
      "<class 'pandas.core.frame.DataFrame'>\n",
      "RangeIndex: 891 entries, 0 to 890\n",
      "Data columns (total 12 columns):\n",
      " #   Column       Non-Null Count  Dtype  \n",
      "---  ------       --------------  -----  \n",
      " 0   PassengerId  891 non-null    int64  \n",
      " 1   Survived     891 non-null    int64  \n",
      " 2   Pclass       891 non-null    int64  \n",
      " 3   Name         891 non-null    object \n",
      " 4   Sex          891 non-null    object \n",
      " 5   Age          714 non-null    float64\n",
      " 6   SibSp        891 non-null    int64  \n",
      " 7   Parch        891 non-null    int64  \n",
      " 8   Ticket       891 non-null    object \n",
      " 9   Fare         891 non-null    float64\n",
      " 10  Cabin        204 non-null    object \n",
      " 11  Embarked     889 non-null    object \n",
      "dtypes: float64(2), int64(5), object(5)\n",
      "memory usage: 83.7+ KB\n"
     ]
    }
   ],
   "source": [
    "df.info()"
   ]
  },
  {
   "cell_type": "code",
   "execution_count": 13,
   "id": "5205eb36",
   "metadata": {
    "execution": {
     "iopub.execute_input": "2022-10-29T10:49:52.069332Z",
     "iopub.status.busy": "2022-10-29T10:49:52.068935Z",
     "iopub.status.idle": "2022-10-29T10:49:52.079389Z",
     "shell.execute_reply": "2022-10-29T10:49:52.078221Z"
    },
    "papermill": {
     "duration": 0.030572,
     "end_time": "2022-10-29T10:49:52.081911",
     "exception": false,
     "start_time": "2022-10-29T10:49:52.051339",
     "status": "completed"
    },
    "tags": []
   },
   "outputs": [
    {
     "data": {
      "text/plain": [
       "PassengerId      0\n",
       "Survived         0\n",
       "Pclass           0\n",
       "Name             0\n",
       "Sex              0\n",
       "Age            177\n",
       "SibSp            0\n",
       "Parch            0\n",
       "Ticket           0\n",
       "Fare             0\n",
       "Cabin          687\n",
       "Embarked         2\n",
       "dtype: int64"
      ]
     },
     "execution_count": 13,
     "metadata": {},
     "output_type": "execute_result"
    }
   ],
   "source": [
    "df.isnull().sum()"
   ]
  },
  {
   "cell_type": "markdown",
   "id": "9d7fbd6b",
   "metadata": {
    "papermill": {
     "duration": 0.016012,
     "end_time": "2022-10-29T10:49:52.113767",
     "exception": false,
     "start_time": "2022-10-29T10:49:52.097755",
     "status": "completed"
    },
    "tags": []
   },
   "source": [
    "As you can see there are 177 null values in our data,I haven't teached how to fill empty values yet so I will not take these empty values in my Data Visualisation."
   ]
  },
  {
   "cell_type": "markdown",
   "id": "d7b810e6",
   "metadata": {
    "papermill": {
     "duration": 0.015426,
     "end_time": "2022-10-29T10:49:52.144951",
     "exception": false,
     "start_time": "2022-10-29T10:49:52.129525",
     "status": "completed"
    },
    "tags": []
   },
   "source": [
    "**Let's create a new data frame that does not include empty values of the \"Age\" column!**"
   ]
  },
  {
   "cell_type": "code",
   "execution_count": 14,
   "id": "711c7ac8",
   "metadata": {
    "execution": {
     "iopub.execute_input": "2022-10-29T10:49:52.178227Z",
     "iopub.status.busy": "2022-10-29T10:49:52.177833Z",
     "iopub.status.idle": "2022-10-29T10:49:52.185895Z",
     "shell.execute_reply": "2022-10-29T10:49:52.184735Z"
    },
    "papermill": {
     "duration": 0.027973,
     "end_time": "2022-10-29T10:49:52.188499",
     "exception": false,
     "start_time": "2022-10-29T10:49:52.160526",
     "status": "completed"
    },
    "tags": []
   },
   "outputs": [],
   "source": [
    "notMissing = df[df['Age'].notnull()]"
   ]
  },
  {
   "cell_type": "markdown",
   "id": "cbd2e3fa",
   "metadata": {
    "papermill": {
     "duration": 0.015416,
     "end_time": "2022-10-29T10:49:52.219850",
     "exception": false,
     "start_time": "2022-10-29T10:49:52.204434",
     "status": "completed"
    },
    "tags": []
   },
   "source": [
    "**Let's start to make up for our data!**"
   ]
  },
  {
   "cell_type": "code",
   "execution_count": 15,
   "id": "0f0e638d",
   "metadata": {
    "execution": {
     "iopub.execute_input": "2022-10-29T10:49:52.252966Z",
     "iopub.status.busy": "2022-10-29T10:49:52.252508Z",
     "iopub.status.idle": "2022-10-29T10:49:52.787357Z",
     "shell.execute_reply": "2022-10-29T10:49:52.786496Z"
    },
    "papermill": {
     "duration": 0.554139,
     "end_time": "2022-10-29T10:49:52.789533",
     "exception": false,
     "start_time": "2022-10-29T10:49:52.235394",
     "status": "completed"
    },
    "tags": []
   },
   "outputs": [
    {
     "data": {
      "text/plain": [
       "{'whiskers': [<matplotlib.lines.Line2D at 0x7f14e0482a50>,\n",
       "  <matplotlib.lines.Line2D at 0x7f14e0482d90>,\n",
       "  <matplotlib.lines.Line2D at 0x7f14e04991d0>,\n",
       "  <matplotlib.lines.Line2D at 0x7f14e04994d0>],\n",
       " 'caps': [<matplotlib.lines.Line2D at 0x7f14e048d110>,\n",
       "  <matplotlib.lines.Line2D at 0x7f14e048d450>,\n",
       "  <matplotlib.lines.Line2D at 0x7f14e0499810>,\n",
       "  <matplotlib.lines.Line2D at 0x7f14e0499b50>],\n",
       " 'boxes': [<matplotlib.lines.Line2D at 0x7f14e0482750>,\n",
       "  <matplotlib.lines.Line2D at 0x7f14e048de50>],\n",
       " 'medians': [<matplotlib.lines.Line2D at 0x7f14e048d7d0>,\n",
       "  <matplotlib.lines.Line2D at 0x7f14e0499e90>],\n",
       " 'fliers': [<matplotlib.lines.Line2D at 0x7f14e048db10>,\n",
       "  <matplotlib.lines.Line2D at 0x7f14e0427210>],\n",
       " 'means': []}"
      ]
     },
     "execution_count": 15,
     "metadata": {},
     "output_type": "execute_result"
    },
    {
     "data": {
      "image/png": "[encoded data removed]",
      "text/plain": [
       "<Figure size 720x432 with 4 Axes>"
      ]
     },
     "metadata": {
      "needs_background": "light"
     },
     "output_type": "display_data"
    }
   ],
   "source": [
    "ship = plt.figure(figsize = (10,6))\n",
    "#It is necessary for making a figure, a chart, or a graph.\n",
    "\n",
    "#figsize gives the size of the figure.\n",
    "\n",
    "hist = ship.add_subplot(221)\n",
    "#It says that there is 2 row (first number), there is 2 column(second number), \n",
    "#and from these the first graph(third number) is ...\n",
    "\n",
    "hist.hist(notMissing['Age'])\n",
    "#Create a histogram and then put the values of the \"Age\" column to the x-axis.\n",
    "\n",
    "scatter = ship.add_subplot(222)\n",
    "#It says that there are 2 rows (first number), there is 2 column(second number), \n",
    "#and from these the second graph(third number) is ...\n",
    "\n",
    "scatter.scatter(notMissing['Age'], notMissing['Fare'])\n",
    "#Create a scatter plot and put values of the \"Age\" column to the  x-axis, \n",
    "#and put values of the \"Fare\" column to the y-axis.\n",
    "\n",
    "box1= ship.add_subplot(223)\n",
    "#It says that there is 2 row (first number), there is 2 column(second number), \n",
    "#and from these the third graph(third number) is ...\n",
    "\n",
    "box1.boxplot([notMissing[notMissing['Survived'] == 0]['Age'],\n",
    "            notMissing[notMissing['Survived'] == 1]['Age']],\n",
    "           labels = ['Deceased', 'Survived'])\n",
    "#Create a box plot and put the ages of the deceased people on the  x-axis, \n",
    "#and put the ages of the survived people on the y-axis.\n",
    "\n",
    "#Put the label \"Deceased\" on the x-axis and put the label \"Survived\" on the y-axis.\n",
    "\n",
    "box2 = ship.add_subplot(224)\n",
    "#It says that there are 2 rows (first number), there is 2 column(second number), \n",
    "#and from these the fourth graph(third number) is ...\n",
    "\n",
    "box2.boxplot([notMissing[notMissing['Sex'] == 'male']['Age'],\n",
    "            notMissing[notMissing['Sex'] == 'female']['Age']],\n",
    "           labels = ['Male', 'Female'])\n",
    "#Create a box plot and put the ages of the male people on the  x-axis, \n",
    "#and put the ages of the female people on the y-axis.\n",
    "\n",
    "#Put the label \"Male\" on the x-axis and put the label \"Female\" on the y-axis."
   ]
  },
  {
   "cell_type": "markdown",
   "id": "244d1dc1",
   "metadata": {
    "papermill": {
     "duration": 0.016472,
     "end_time": "2022-10-29T10:49:52.822464",
     "exception": false,
     "start_time": "2022-10-29T10:49:52.805992",
     "status": "completed"
    },
    "tags": []
   },
   "source": [
    "## **Any other examples…**"
   ]
  },
  {
   "cell_type": "code",
   "execution_count": 16,
   "id": "d8142555",
   "metadata": {
    "execution": {
     "iopub.execute_input": "2022-10-29T10:49:52.857006Z",
     "iopub.status.busy": "2022-10-29T10:49:52.856348Z",
     "iopub.status.idle": "2022-10-29T10:49:53.119430Z",
     "shell.execute_reply": "2022-10-29T10:49:53.118614Z"
    },
    "papermill": {
     "duration": 0.283047,
     "end_time": "2022-10-29T10:49:53.121710",
     "exception": false,
     "start_time": "2022-10-29T10:49:52.838663",
     "status": "completed"
    },
    "tags": []
   },
   "outputs": [
    {
     "data": {
      "text/plain": [
       "<AxesSubplot:title={'center':'Scatter Plot'}, xlabel='Age', ylabel='Fare'>"
      ]
     },
     "execution_count": 16,
     "metadata": {},
     "output_type": "execute_result"
    },
    {
     "data": {
      "image/png": "[encoded data removed]",
      "text/plain": [
       "<Figure size 432x288 with 1 Axes>"
      ]
     },
     "metadata": {
      "needs_background": "light"
     },
     "output_type": "display_data"
    }
   ],
   "source": [
    "df.plot.scatter(x=\"Age\",y=\"Fare\",title=\"Scatter Plot\")\n",
    "# Create a scatter plot then put values of the \"Age\" column from df to the x-axis \n",
    "#and values of the \"Fare\" column from df to the y-axis.\n",
    "\n",
    "#Set the title \"Scatter Plot\""
   ]
  },
  {
   "cell_type": "code",
   "execution_count": 17,
   "id": "5180b39d",
   "metadata": {
    "execution": {
     "iopub.execute_input": "2022-10-29T10:49:53.157995Z",
     "iopub.status.busy": "2022-10-29T10:49:53.157204Z",
     "iopub.status.idle": "2022-10-29T10:49:53.410422Z",
     "shell.execute_reply": "2022-10-29T10:49:53.409030Z"
    },
    "papermill": {
     "duration": 0.274381,
     "end_time": "2022-10-29T10:49:53.413041",
     "exception": false,
     "start_time": "2022-10-29T10:49:53.138660",
     "status": "completed"
    },
    "tags": []
   },
   "outputs": [
    {
     "data": {
      "text/plain": [
       "<AxesSubplot:ylabel='Frequency'>"
      ]
     },
     "execution_count": 17,
     "metadata": {},
     "output_type": "execute_result"
    },
    {
     "data": {
      "image/png": "[encoded data removed]",
      "text/plain": [
       "<Figure size 432x288 with 1 Axes>"
      ]
     },
     "metadata": {
      "needs_background": "light"
     },
     "output_type": "display_data"
    }
   ],
   "source": [
    "df.Age.plot.hist()\n",
    "#Create a histogram and put values of \"Age\" from df to the x-axis.\n",
    "\n",
    "#If you will put \";\" end of your code you will not see such a thing like :\n",
    "#\"<AxesSubplot:ylabel='Frequency'>\"."
   ]
  },
  {
   "cell_type": "code",
   "execution_count": 18,
   "id": "2028ec28",
   "metadata": {
    "execution": {
     "iopub.execute_input": "2022-10-29T10:49:53.449759Z",
     "iopub.status.busy": "2022-10-29T10:49:53.449345Z",
     "iopub.status.idle": "2022-10-29T10:49:53.699537Z",
     "shell.execute_reply": "2022-10-29T10:49:53.698389Z"
    },
    "papermill": {
     "duration": 0.271899,
     "end_time": "2022-10-29T10:49:53.702059",
     "exception": false,
     "start_time": "2022-10-29T10:49:53.430160",
     "status": "completed"
    },
    "tags": []
   },
   "outputs": [
    {
     "data": {
      "image/png": "[encoded data removed]",
      "text/plain": [
       "<Figure size 432x288 with 1 Axes>"
      ]
     },
     "metadata": {
      "needs_background": "light"
     },
     "output_type": "display_data"
    }
   ],
   "source": [
    "df.Age.plot.hist();"
   ]
  },
  {
   "cell_type": "code",
   "execution_count": 19,
   "id": "4ae7bdbf",
   "metadata": {
    "execution": {
     "iopub.execute_input": "2022-10-29T10:49:53.742246Z",
     "iopub.status.busy": "2022-10-29T10:49:53.741291Z",
     "iopub.status.idle": "2022-10-29T10:49:53.936082Z",
     "shell.execute_reply": "2022-10-29T10:49:53.934782Z"
    },
    "papermill": {
     "duration": 0.218355,
     "end_time": "2022-10-29T10:49:53.938573",
     "exception": false,
     "start_time": "2022-10-29T10:49:53.720218",
     "status": "completed"
    },
    "tags": []
   },
   "outputs": [
    {
     "data": {
      "image/png": "[encoded data removed]",
      "text/plain": [
       "<Figure size 432x288 with 1 Axes>"
      ]
     },
     "metadata": {
      "needs_background": "light"
     },
     "output_type": "display_data"
    }
   ],
   "source": [
    "df.Pclass.value_counts().sort_index().plot.bar();\n",
    "#Count the values of the \"Pclass\" column from df and then sort the index.\n",
    "#After that, create a vertical bar and put these values on the x-axis."
   ]
  },
  {
   "cell_type": "code",
   "execution_count": 20,
   "id": "2f483c05",
   "metadata": {
    "execution": {
     "iopub.execute_input": "2022-10-29T10:49:53.977402Z",
     "iopub.status.busy": "2022-10-29T10:49:53.977022Z",
     "iopub.status.idle": "2022-10-29T10:49:54.108333Z",
     "shell.execute_reply": "2022-10-29T10:49:54.106568Z"
    },
    "papermill": {
     "duration": 0.15373,
     "end_time": "2022-10-29T10:49:54.111616",
     "exception": false,
     "start_time": "2022-10-29T10:49:53.957886",
     "status": "completed"
    },
    "tags": []
   },
   "outputs": [
    {
     "data": {
      "image/png": "[encoded data removed]",
      "text/plain": [
       "<Figure size 432x288 with 1 Axes>"
      ]
     },
     "metadata": {
      "needs_background": "light"
     },
     "output_type": "display_data"
    }
   ],
   "source": [
    "df.Pclass.value_counts().sort_index().plot.barh();\n",
    "#Count the values of the \"Pclass\" column from df and then sort the index. \n",
    "#After that, create a horizontal bar and put these values on the y-axis."
   ]
  },
  {
   "cell_type": "markdown",
   "id": "8cb8d8e1",
   "metadata": {
    "papermill": {
     "duration": 0.017257,
     "end_time": "2022-10-29T10:49:54.146845",
     "exception": false,
     "start_time": "2022-10-29T10:49:54.129588",
     "status": "completed"
    },
    "tags": []
   },
   "source": [
    "# **Makeup hasn't been over yet!**"
   ]
  },
  {
   "cell_type": "markdown",
   "id": "31cd283e",
   "metadata": {
    "papermill": {
     "duration": 0.017096,
     "end_time": "2022-10-29T10:49:54.181399",
     "exception": false,
     "start_time": "2022-10-29T10:49:54.164303",
     "status": "completed"
    },
    "tags": []
   },
   "source": [
    "### You have learned how to use **matplotlib**. If you want to be an expert on matplotlib you should examine [this site](https://matplotlib.org/)."
   ]
  },
  {
   "cell_type": "markdown",
   "id": "c1f668d1",
   "metadata": {
    "papermill": {
     "duration": 0.017206,
     "end_time": "2022-10-29T10:49:54.216054",
     "exception": false,
     "start_time": "2022-10-29T10:49:54.198848",
     "status": "completed"
    },
    "tags": []
   },
   "source": [
    "# **Stay tuned!**"
   ]
  },
  {
   "cell_type": "markdown",
   "id": "f18f3b98",
   "metadata": {
    "papermill": {
     "duration": 0.017097,
     "end_time": "2022-10-29T10:49:54.250599",
     "exception": false,
     "start_time": "2022-10-29T10:49:54.233502",
     "status": "completed"
    },
    "tags": []
   },
   "source": [
    "# \"How can you make up your data? (Part-2)\" will come!"
   ]
  },
  {
   "cell_type": "markdown",
   "id": "a1b1e417",
   "metadata": {
    "papermill": {
     "duration": 0.017195,
     "end_time": "2022-10-29T10:49:54.285228",
     "exception": false,
     "start_time": "2022-10-29T10:49:54.268033",
     "status": "completed"
    },
    "tags": []
   },
   "source": []
  }
 ],
 "metadata": {
  "kernelspec": {
   "display_name": "Python 3",
   "language": "python",
   "name": "python3"
  },
  "language_info": {
   "codemirror_mode": {
    "name": "ipython",
    "version": 3
   },
   "file_extension": ".py",
   "mimetype": "text/x-python",
   "name": "python",
   "nbconvert_exporter": "python",
   "pygments_lexer": "ipython3",
   "version": "3.7.12"
  },
  "papermill": {
   "default_parameters": {},
   "duration": 15.499047,
   "end_time": "2022-10-29T10:49:55.024682",
   "environment_variables": {},
   "exception": null,
   "input_path": "__notebook__.ipynb",
   "output_path": "__notebook__.ipynb",
   "parameters": {},
   "start_time": "2022-10-29T10:49:39.525635",
   "version": "2.3.4"
  }
 },
 "nbformat": 4,
 "nbformat_minor": 5
}
